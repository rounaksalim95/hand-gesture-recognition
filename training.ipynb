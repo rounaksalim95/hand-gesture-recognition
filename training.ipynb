{
  "nbformat": 4,
  "nbformat_minor": 0,
  "metadata": {
    "colab": {
      "name": "training.ipynb",
      "provenance": [],
      "collapsed_sections": []
    },
    "kernelspec": {
      "name": "python3",
      "display_name": "Python 3"
    },
    "language_info": {
      "name": "python"
    }
  },
  "cells": [
    {
      "cell_type": "code",
      "execution_count": 5,
      "metadata": {
        "id": "kpXZxmZUPNPZ"
      },
      "outputs": [],
      "source": [
        "# Imports\n",
        "\n",
        "import cv2"
      ]
    },
    {
      "cell_type": "markdown",
      "source": [
        "# Test reading images (thumbs-up) from dataset"
      ],
      "metadata": {
        "id": "pG9SKVhkRIrC"
      }
    },
    {
      "cell_type": "code",
      "source": [
        "thumbs_up_images = []\n",
        "\n",
        "for i in range(1, 901):\n",
        "  img = cv2.imread(f\"/content/train/thumbs-up/{i}.jpg\")\n",
        "  thumbs_up_images.append(img)\n",
        "\n",
        "print(len(thumbs_up_images))\n",
        "print(thumbs_up_images[0].shape)"
      ],
      "metadata": {
        "colab": {
          "base_uri": "https://localhost:8080/"
        },
        "id": "CtsdSYWkQ05Y",
        "outputId": "8f070ff5-e947-46f0-9d0f-32a6489830d3"
      },
      "execution_count": 7,
      "outputs": [
        {
          "output_type": "stream",
          "name": "stdout",
          "text": [
            "900\n",
            "(50, 50, 3)\n"
          ]
        }
      ]
    },
    {
      "cell_type": "code",
      "source": [
        ""
      ],
      "metadata": {
        "id": "A6pEqnCJSJHt"
      },
      "execution_count": null,
      "outputs": []
    }
  ]
}