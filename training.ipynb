{
 "cells": [
  {
   "cell_type": "code",
   "execution_count": 1,
   "metadata": {
    "id": "kpXZxmZUPNPZ"
   },
   "outputs": [],
   "source": [
    "# Imports\n",
    "\n",
    "import cv2"
   ]
  },
  {
   "cell_type": "markdown",
   "metadata": {
    "id": "pG9SKVhkRIrC"
   },
   "source": [
    "# Test reading images (thumbs-up) from dataset"
   ]
  },
  {
   "cell_type": "markdown",
   "metadata": {},
   "source": [
    "Filepath check\n",
    "<img src = \"/content/train/thumbs-up/1.jpg\">\n",
    "<center>\"/content/train/thumbs-up/1.jpg\"</center>\n",
    "\n",
    "<img src = \"./dataset/train/thumbs-up/1.jpg\">\n",
    "<center>\"./dataset/train/thumbs-up/1.jpg\"</center>"
   ]
  },
  {
   "cell_type": "code",
   "execution_count": 2,
   "metadata": {
    "colab": {
     "base_uri": "https://localhost:8080/"
    },
    "id": "CtsdSYWkQ05Y",
    "outputId": "8f070ff5-e947-46f0-9d0f-32a6489830d3",
    "scrolled": true
   },
   "outputs": [
    {
     "name": "stdout",
     "output_type": "stream",
     "text": [
      "900\n",
      "(50, 50, 3)\n"
     ]
    }
   ],
   "source": [
    "thumbs_up_images = []\n",
    "\n",
    "for i in range(1, 901):\n",
    "  img = cv2.imread(f\"./dataset/train/thumbs-up/{i}.jpg\")\n",
    "  thumbs_up_images.append(img)\n",
    "\n",
    "print(len(thumbs_up_images))\n",
    "print(thumbs_up_images[0].shape)"
   ]
  },
  {
   "cell_type": "code",
   "execution_count": 3,
   "metadata": {},
   "outputs": [
    {
     "data": {
      "image/png": "[encoded data removed]",
      "text/plain": [
       "<Figure size 432x288 with 1 Axes>"
      ]
     },
     "metadata": {
      "needs_background": "light"
     },
     "output_type": "display_data"
    }
   ],
   "source": [
    "from matplotlib import pyplot as plt\n",
    "plt.imshow(thumbs_up_images[0], interpolation='nearest')\n",
    "plt.show()\n"
   ]
  },
  {
   "cell_type": "code",
   "execution_count": 4,
   "metadata": {
    "id": "A6pEqnCJSJHt",
    "scrolled": true
   },
   "outputs": [
    {
     "name": "stdout",
     "output_type": "stream",
     "text": [
      "900\n",
      "(50, 50, 3)\n"
     ]
    }
   ],
   "source": [
    "ok_sign_images = []\n",
    "\n",
    "for i in range(1, 901):\n",
    "  img = cv2.imread(f\"./dataset/train/ok-sign/{i}.jpg\")\n",
    "  ok_sign_images.append(img)\n",
    "\n",
    "print(len(ok_sign_images))\n",
    "print(ok_sign_images[0].shape)"
   ]
  },
  {
   "cell_type": "code",
   "execution_count": 5,
   "metadata": {},
   "outputs": [
    {
     "data": {
      "image/png": "[encoded data removed]",
      "text/plain": [
       "<Figure size 432x288 with 1 Axes>"
      ]
     },
     "metadata": {
      "needs_background": "light"
     },
     "output_type": "display_data"
    }
   ],
   "source": [
    "from matplotlib import pyplot as plt\n",
    "plt.imshow(ok_sign_images[0], interpolation='nearest')\n",
    "plt.show()\n"
   ]
  },
  {
   "cell_type": "code",
   "execution_count": 6,
   "metadata": {},
   "outputs": [
    {
     "name": "stdout",
     "output_type": "stream",
     "text": [
      "900\n",
      "(50, 50, 3)\n"
     ]
    }
   ],
   "source": [
    "fingers_crossed_images = []\n",
    "\n",
    "for i in range(1, 901):\n",
    "  img = cv2.imread(f\"./dataset/train/fingers-crossed/{i}.jpg\")\n",
    "  fingers_crossed_images.append(img)\n",
    "\n",
    "print(len(fingers_crossed_images))\n",
    "print(fingers_crossed_images[0].shape)"
   ]
  },
  {
   "cell_type": "code",
   "execution_count": 7,
   "metadata": {},
   "outputs": [
    {
     "data": {
      "image/png": "[encoded data removed]",
      "text/plain": [
       "<Figure size 432x288 with 1 Axes>"
      ]
     },
     "metadata": {
      "needs_background": "light"
     },
     "output_type": "display_data"
    }
   ],
   "source": [
    "from matplotlib import pyplot as plt\n",
    "plt.imshow(fingers_crossed_images[0], interpolation='nearest')\n",
    "plt.show()\n"
   ]
  },
  {
   "cell_type": "code",
   "execution_count": 8,
   "metadata": {},
   "outputs": [
    {
     "name": "stdout",
     "output_type": "stream",
     "text": [
      "900\n",
      "(50, 50, 3)\n"
     ]
    }
   ],
   "source": [
    "victory_sign_images = []\n",
    "\n",
    "for i in range(1, 901):\n",
    "  img = cv2.imread(f\"./dataset/train/victory-sign/{i}.jpg\")\n",
    "  victory_sign_images.append(img)\n",
    "\n",
    "print(len(victory_sign_images))\n",
    "print(victory_sign_images[0].shape)"
   ]
  },
  {
   "cell_type": "code",
   "execution_count": 9,
   "metadata": {},
   "outputs": [
    {
     "data": {
      "image/png": "[encoded data removed]",
      "text/plain": [
       "<Figure size 432x288 with 1 Axes>"
      ]
     },
     "metadata": {
      "needs_background": "light"
     },
     "output_type": "display_data"
    }
   ],
   "source": [
    "from matplotlib import pyplot as plt\n",
    "plt.imshow(victory_sign_images[0], interpolation='nearest')\n",
    "plt.show()\n"
   ]
  },
  {
   "cell_type": "code",
   "execution_count": 10,
   "metadata": {},
   "outputs": [
    {
     "name": "stdout",
     "output_type": "stream",
     "text": [
      "1800\n",
      "(50, 50, 3)\n"
     ]
    }
   ],
   "source": [
    "_images = []\n",
    "\n",
    "for i in range(1, 901):\n",
    "  img = cv2.imread(f\"./dataset/train/fingers-crossed/{i}.jpg\")\n",
    "  fingers_crossed_images.append(img)\n",
    "\n",
    "print(len(fingers_crossed_images))\n",
    "print(fingers_crossed_images[0].shape)"
   ]
  }
 ],
 "metadata": {
  "colab": {
   "collapsed_sections": [],
   "name": "training.ipynb",
   "provenance": []
  },
  "kernelspec": {
   "display_name": "Python 3",
   "language": "python",
   "name": "python3"
  },
  "language_info": {
   "codemirror_mode": {
    "name": "ipython",
    "version": 3
   },
   "file_extension": ".py",
   "mimetype": "text/x-python",
   "name": "python",
   "nbconvert_exporter": "python",
   "pygments_lexer": "ipython3",
   "version": "3.8.8"
  }
 },
 "nbformat": 4,
 "nbformat_minor": 1
}
