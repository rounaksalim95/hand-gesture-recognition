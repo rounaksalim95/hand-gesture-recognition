{
 "cells": [
  {
   "cell_type": "code",
   "execution_count": 39,
   "metadata": {},
   "outputs": [],
   "source": [
    "import cv2\n",
    "\n",
    "def resize_image(image):\n",
    "    # image = cv2.resize(image, (1,50,50,1), interpolation = cv2.INTER_AREA)\n",
    "    image = cv2.resize(image, (50,50), interpolation = cv2.INTER_AREA)\n",
    "    return image\n",
    "\n",
    "def main():\n",
    "    #index depends on your devices\n",
    "    #cap = cv2.VideoCapture(0)\n",
    "    cap = cv2.VideoCapture(1)\n",
    "    \n",
    "    #define frame corners\n",
    "    #top, right, bottom, left = 10, 350, 225, 590\n",
    "    top, right, bottom, left = 10, 350, 260, 600\n",
    "    \n",
    "    i=0 #number of frames (allowing for slow start)\n",
    "    j=0 #number of images\n",
    "    \n",
    "    while cap.isOpened() :\n",
    "\n",
    "        if i < 100 :\n",
    "            i+= 1\n",
    "            continue\n",
    "        \n",
    "        image, frame = cap.read()\n",
    "        gray = cv2.cvtColor(frame, cv2.COLOR_BGR2GRAY)\n",
    "        binary_image = cv2.Canny(gray, 100, 200)\n",
    "        thresh = cv2.threshold(gray, 140, 255, cv2.THRESH_BINARY)[1]\n",
    "        #thresh = gray\n",
    "        crp_img = thresh[top:bottom,right:left]\n",
    "        resized_img = resize_image(crp_img)\n",
    "        cv2.rectangle(frame, (right,top), (left,bottom), (255, 255, 255), 2)\n",
    "        #cv2.putText(frame, str(pred_str), (right, bottom), cv2.FONT_HERSHEY_SIMPLEX, 1, (255, 255, 255), 2, cv2.LINE_4)\n",
    "        cv2.imshow(\"image\",frame)        \n",
    "        \n",
    "        if j%5 == 0:\n",
    "            cv2.imwrite(f'temp/{j}.png', resized_img)\n",
    "            \n",
    "        \n",
    "        if (cv2.waitKey(1) & 0xFF == ord('q')): break\n",
    "            \n",
    "        i+= 1\n",
    "        j+=1\n",
    "        \n",
    "    cap.release()\n",
    "    cv2.destroyAllWindows()\n",
    "\n",
    "\n",
    "if __name__ == \"__main__\":\n",
    "    main()"
   ]
  },
  {
   "cell_type": "code",
   "execution_count": null,
   "metadata": {},
   "outputs": [],
   "source": []
  },
  {
   "cell_type": "code",
   "execution_count": null,
   "metadata": {},
   "outputs": [],
   "source": []
  },
  {
   "cell_type": "code",
   "execution_count": null,
   "metadata": {},
   "outputs": [],
   "source": []
  }
 ],
 "metadata": {
  "kernelspec": {
   "display_name": "Python 3",
   "language": "python",
   "name": "python3"
  },
  "language_info": {
   "codemirror_mode": {
    "name": "ipython",
    "version": 3
   },
   "file_extension": ".py",
   "mimetype": "text/x-python",
   "name": "python",
   "nbconvert_exporter": "python",
   "pygments_lexer": "ipython3",
   "version": "3.7.4"
  }
 },
 "nbformat": 4,
 "nbformat_minor": 4
}
